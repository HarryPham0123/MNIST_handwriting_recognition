{
 "cells": [
  {
   "cell_type": "markdown",
   "metadata": {},
   "source": [
    "## MNIST handwritting recognition"
   ]
  },
  {
   "cell_type": "code",
   "execution_count": 1,
   "metadata": {},
   "outputs": [],
   "source": [
    "import numpy as np\n",
    "import matplotlib.pyplot as plt\n",
    "# scipy.special library for sigmoid function expit()\n",
    "import scipy.special\n",
    "# \"imageio\" help load data from PNG image files\n",
    "import imageio\n",
    "# \"glob\" helps select multiple files using pattern\n",
    "import glob\n",
    "\n",
    "%matplotlib inline"
   ]
  },
  {
   "cell_type": "markdown",
   "metadata": {},
   "source": [
    "## Neural network model"
   ]
  },
  {
   "cell_type": "code",
   "execution_count": 2,
   "metadata": {},
   "outputs": [],
   "source": [
    "# Neural network class definition\n",
    "class neuralNetwork:\n",
    "    \n",
    "    # Initialize the neural network\n",
    "    def __init__(self, inputNodes, hiddenNodes, outputNodes, learningRate):\n",
    "        # Set # of nodes in input, hidden and output layer\n",
    "        self.iNodes = inputNodes\n",
    "        self.hNodes = hiddenNodes\n",
    "        self.oNodes = outputNodes\n",
    "        \n",
    "        # (Experience of choosing weights) Sample weights centred around zero and std = 1/sqrt(#_of_incoming_nodes)\n",
    "        self.wih = np.random.normal(loc=0.0, scale=pow(self.iNodes, -0.5),\n",
    "                                    size=(self.hNodes, self.iNodes))\n",
    "        self.who = np.random.normal(loc=0.0, scale=pow(self.hNodes, -0.5),\n",
    "                                    size=(self.oNodes, self.hNodes))\n",
    "        # Set learning rate\n",
    "        self.lr = learningRate\n",
    "        # Set the activation function (sigmoid funct)\n",
    "        self.activation_function = lambda x: scipy.special.expit(x)\n",
    "        pass \n",
    "    \n",
    "    \n",
    "    # train the neural network\n",
    "    def train(self, inputs_list, targets_list):\n",
    "        # Convert both inputs to at least 2d array\n",
    "        inputs = np.array(inputs_list,\n",
    "                          ndmin=2).T\n",
    "        targets = np.array(targets_list,\n",
    "                           ndmin=2).T\n",
    "        \n",
    "        # Calculate the signals into the hidden layer\n",
    "        hidden_inputs = np.dot(self.wih,\n",
    "                               inputs)\n",
    "        # Calculate the signals emerging from hidden layer\n",
    "        hidden_outputs = self.activation_function(hidden_inputs)\n",
    "        \n",
    "        # Calculate the signals into the hidden layer\n",
    "        final_inputs = np.dot(self.who,\n",
    "                              hidden_outputs)\n",
    "        # Calculate the signals emerging from hidden layer\n",
    "        final_outputs = self.activation_function(final_inputs)\n",
    "        \n",
    "        # The heart of neural network, improving the weights base on the error between caculated and target outputs (back propagation)\n",
    "        # Error_output = target - actual\n",
    "        output_error = targets - final_outputs\n",
    "        # Hidden error is the output_error, spliting by weight and recombing at hidden nodes (???????)\n",
    "        hidden_error = np.dot(self.who.T,\n",
    "                              output_error)\n",
    "        # Update weights for links between hidden and output layers\n",
    "        self.who += self.lr * np.dot((output_error * final_outputs * (1.0-final_outputs)),\n",
    "                                     np.transpose(hidden_outputs))  \n",
    "        # Update weights for links between input and hidden layers\n",
    "        self.wih += self.lr * np.dot((hidden_error * hidden_outputs * (1.0-hidden_outputs)),\n",
    "                                    np.transpose(inputs))\n",
    "        pass\n",
    "    \n",
    "    \n",
    "    # Return output nodes after inputting the input nodes \n",
    "    def query(self, inputs_list):\n",
    "        # Convert the input list to 2d array\n",
    "        inputs = np.array(inputs_list, ndmin=2).T  # For appropriate term\n",
    "        \n",
    "        # Calculate the signals into the hidden layer\n",
    "        hidden_inputs = np.dot(self.wih, inputs)\n",
    "        # Calculate the signals emerging from hidden layer\n",
    "        hidden_outputs = self.activation_function(hidden_inputs)\n",
    "        \n",
    "        # Calculate the signals into the hidden layer\n",
    "        final_inputs = np.dot(self.who, hidden_outputs)\n",
    "        # Calculate the signals emerging from hidden layer\n",
    "        final_outputs = self.activation_function(final_inputs)\n",
    "        \n",
    "        return final_outputs"
   ]
  },
  {
   "cell_type": "markdown",
   "metadata": {},
   "source": [
    "### Introduce some initial value"
   ]
  },
  {
   "cell_type": "code",
   "execution_count": 3,
   "metadata": {},
   "outputs": [],
   "source": [
    "# Number of input node, hidden nodes and output nodes\n",
    "input_nodes = 784 # 28*28\n",
    "hidden_nodes = 100\n",
    "output_nodes = 10\n",
    "\n",
    "# Learning rate\n",
    "learning_rate = 0.1\n",
    "\n",
    "# Create instance of neural network\n",
    "mnist_model = neuralNetwork(input_nodes, hidden_nodes, output_nodes, learning_rate)"
   ]
  },
  {
   "cell_type": "markdown",
   "metadata": {},
   "source": [
    "### Load MNIST training data csv"
   ]
  },
  {
   "cell_type": "code",
   "execution_count": 4,
   "metadata": {},
   "outputs": [],
   "source": [
    "train_data_file = open(\"data/mnist_train.csv\", \"r\")\n",
    "train_data_list = train_data_file.readlines()[1:]\n",
    "train_data_file.close()"
   ]
  },
  {
   "cell_type": "markdown",
   "metadata": {},
   "source": [
    "### Train neural network model"
   ]
  },
  {
   "cell_type": "markdown",
   "metadata": {},
   "source": [
    "- **\"Epoch\"**: The number of time running through the entire training data set "
   ]
  },
  {
   "cell_type": "code",
   "execution_count": 5,
   "metadata": {},
   "outputs": [],
   "source": [
    "# epochs is the number of times the training data set is used for  training \n",
    "epochs = 5\n",
    "\n",
    "for e in range(epochs):\n",
    "    for record in train_data_list:\n",
    "        # Split record by ','\n",
    "        all_value = record.split(',')\n",
    "        # Scale and shift input to appropriate value for model\n",
    "        inputs = (np.asfarray(all_value[1:]) / 255.0 * 0.99) + 0.01\n",
    "        # Create target output value \n",
    "        targets = np.zeros(output_nodes) + 0.01\n",
    "        # all_value[0] is the \"target output\" for training data\n",
    "        targets[int(all_value[0])] = 0.99\n",
    "        # Train model\n",
    "        mnist_model.train(inputs, targets)\n",
    "        pass \n",
    "    pass\n",
    "\n",
    "    \n",
    "# (NOTE) Input must be array shape (1*784) appropriate to model\n",
    "# (NOTE) \"Target\" must have same size as output nodes"
   ]
  },
  {
   "cell_type": "markdown",
   "metadata": {},
   "source": [
    "### Load MNIS testing data"
   ]
  },
  {
   "cell_type": "code",
   "execution_count": 8,
   "metadata": {},
   "outputs": [],
   "source": [
    "test_data_file = open(\"data/mnist_test.csv\", \"r\")\n",
    "test_data_list = test_data_file.readlines()[1:]\n",
    "test_data_file.close()"
   ]
  },
  {
   "cell_type": "markdown",
   "metadata": {},
   "source": [
    "### Test the testing data"
   ]
  },
  {
   "cell_type": "markdown",
   "metadata": {},
   "source": [
    "**\"Scorecard\"** save the result of applying testing data to MNIST model \n",
    "- *Scorecard = 1* if the prediction is right \n",
    "- *Scorecard = 0* otherwise"
   ]
  },
  {
   "cell_type": "code",
   "execution_count": 9,
   "metadata": {},
   "outputs": [],
   "source": [
    "# Scorecard for how well the network perform\n",
    "scorecard = []"
   ]
  },
  {
   "cell_type": "code",
   "execution_count": 10,
   "metadata": {},
   "outputs": [],
   "source": [
    "for test_record in test_data_list:\n",
    "    # Split the record \",\"\n",
    "    all_values = test_record.split(\",\")\n",
    "    # Correct answer is first value in list\n",
    "    correct_label = int(all_values[0])\n",
    "    # Scale and shift the inputs to array\n",
    "    inputs = (np.asfarray(all_values[1:]) / 255.0 * 0.99) + 0.01\n",
    "    # Query the network\n",
    "    output = mnist_model.query(inputs)\n",
    "    # The index of highest value corresponds to the label\n",
    "    label = np.argmax(output)  # Take index of highest value in list\n",
    "    # 1 for matched correct answer; 0 for not matched correct answer \n",
    "    if (label == correct_label) :\n",
    "        scorecard.append(1)\n",
    "    else:\n",
    "        scorecard.append(0)"
   ]
  },
  {
   "cell_type": "markdown",
   "metadata": {},
   "source": [
    "### Calculate the \"Performance\" score"
   ]
  },
  {
   "cell_type": "code",
   "execution_count": 14,
   "metadata": {},
   "outputs": [
    {
     "name": "stdout",
     "output_type": "stream",
     "text": [
      "Performance = 96.67%\n"
     ]
    }
   ],
   "source": [
    "# Calculate the \"Performance\" of model\n",
    "scorecard_array = np.array(scorecard)\n",
    "performance = scorecard_array.sum() / scorecard_array.size\n",
    "print(f\"Performance = {performance*100}%\")"
   ]
  },
  {
   "cell_type": "markdown",
   "metadata": {},
   "source": [
    "## Some improvement for my model"
   ]
  },
  {
   "cell_type": "markdown",
   "metadata": {},
   "source": [
    "- Using **\"Epochs\"** to train multiple time\n",
    "<br>\n",
    "- Modify **\"learning rate\"** of the model\n",
    "<br>\n",
    "- Changing the **shape of network** --> The number of nodes in hidden layer (This is the place where the model actually learns)"
   ]
  },
  {
   "cell_type": "markdown",
   "metadata": {},
   "source": [
    "#### Plotting data"
   ]
  },
  {
   "cell_type": "code",
   "execution_count": 36,
   "metadata": {},
   "outputs": [
    {
     "data": {
      "text/plain": [
       "<matplotlib.image.AxesImage at 0x1e36ff36400>"
      ]
     },
     "execution_count": 36,
     "metadata": {},
     "output_type": "execute_result"
    },
    {
     "data": {
      "image/png": "[encoded data removed]",
      "text/plain": [
       "<Figure size 432x288 with 1 Axes>"
      ]
     },
     "metadata": {
      "needs_background": "light"
     },
     "output_type": "display_data"
    }
   ],
   "source": [
    "all_values = train_data_list[0].split(\",\")\n",
    "# Transform list of str to array of real numbers, reshape them\n",
    "image_array = np.asfarray(all_values[1:]).reshape((28,28))\n",
    "# Create an image from array\n",
    "plt.imshow(image_array, cmap=\"Greys\", interpolation=None)"
   ]
  },
  {
   "cell_type": "markdown",
   "metadata": {},
   "source": [
    "- **\"np.asfarray(list)\"**: transform string to real number and create an array for those number\n",
    "<br>\n",
    "- **\"plt.imshow(data, cmap=)\"**: Create an image from 2-dimensional array with color \"cmap\""
   ]
  },
  {
   "cell_type": "markdown",
   "metadata": {},
   "source": [
    "#### Preparing the MNIST Training Data"
   ]
  },
  {
   "cell_type": "markdown",
   "metadata": {},
   "source": [
    "- First need to rescale the input color value from 0 - 255 to 0.01 - 1.0\n",
    "<br>\n",
    "- I choose 0.01 not 0.0 because \"*Zero value inputs can artificially kill weight updates*\""
   ]
  },
  {
   "cell_type": "code",
   "execution_count": 38,
   "metadata": {},
   "outputs": [
    {
     "data": {
      "text/plain": [
       "array([0.01      , 0.01      , 0.01      , 0.01      , 0.01      ,\n",
       "       0.01      , 0.01      , 0.01      , 0.01      , 0.01      ,\n",
       "       0.01      , 0.01      , 0.01      , 0.01      , 0.01      ,\n",
       "       0.01      , 0.01      , 0.01      , 0.01      , 0.01      ,\n",
       "       0.01      , 0.01      , 0.01      , 0.01      , 0.01      ,\n",
       "       0.01      , 0.01      , 0.01      , 0.01      , 0.01      ,\n",
       "       0.01      , 0.01      , 0.01      , 0.01      , 0.01      ,\n",
       "       0.01      , 0.01      , 0.01      , 0.01      , 0.01      ,\n",
       "       0.01      , 0.01      , 0.01      , 0.01      , 0.01      ,\n",
       "       0.01      , 0.01      , 0.01      , 0.01      , 0.01      ,\n",
       "       0.01      , 0.01      , 0.01      , 0.01      , 0.01      ,\n",
       "       0.01      , 0.01      , 0.01      , 0.01      , 0.01      ,\n",
       "       0.01      , 0.01      , 0.01      , 0.01      , 0.01      ,\n",
       "       0.01      , 0.01      , 0.01      , 0.01      , 0.01      ,\n",
       "       0.01      , 0.01      , 0.01      , 0.01      , 0.01      ,\n",
       "       0.01      , 0.01      , 0.01      , 0.01      , 0.01      ,\n",
       "       0.01      , 0.01      , 0.01      , 0.01      , 0.01      ,\n",
       "       0.01      , 0.01      , 0.01      , 0.01      , 0.01      ,\n",
       "       0.01      , 0.01      , 0.01      , 0.01      , 0.01      ,\n",
       "       0.01      , 0.01      , 0.01      , 0.01      , 0.01      ,\n",
       "       0.01      , 0.01      , 0.01      , 0.01      , 0.01      ,\n",
       "       0.01      , 0.01      , 0.01      , 0.01      , 0.01      ,\n",
       "       0.01      , 0.01      , 0.01      , 0.01      , 0.01      ,\n",
       "       0.01      , 0.01      , 0.01      , 0.01      , 0.01      ,\n",
       "       0.01      , 0.01      , 0.01      , 0.01      , 0.01      ,\n",
       "       0.01      , 0.01      , 0.01      , 0.01      , 0.01      ,\n",
       "       0.01      , 0.01      , 0.01      , 0.01      , 0.01      ,\n",
       "       0.01      , 0.01      , 0.01      , 0.01      , 0.01      ,\n",
       "       0.01      , 0.01      , 0.01      , 0.01      , 0.01      ,\n",
       "       0.01      , 0.01      , 0.01      , 0.01      , 0.01      ,\n",
       "       0.01      , 0.01      , 0.02164706, 0.07988235, 0.07988235,\n",
       "       0.07988235, 0.49917647, 0.538     , 0.68941176, 0.11094118,\n",
       "       0.65447059, 1.        , 0.96894118, 0.50305882, 0.01      ,\n",
       "       0.01      , 0.01      , 0.01      , 0.01      , 0.01      ,\n",
       "       0.01      , 0.01      , 0.01      , 0.01      , 0.01      ,\n",
       "       0.01      , 0.12647059, 0.14976471, 0.37494118, 0.60788235,\n",
       "       0.67      , 0.99223529, 0.99223529, 0.99223529, 0.99223529,\n",
       "       0.99223529, 0.88352941, 0.67776471, 0.99223529, 0.94952941,\n",
       "       0.76705882, 0.25847059, 0.01      , 0.01      , 0.01      ,\n",
       "       0.01      , 0.01      , 0.01      , 0.01      , 0.01      ,\n",
       "       0.01      , 0.01      , 0.01      , 0.20023529, 0.934     ,\n",
       "       0.99223529, 0.99223529, 0.99223529, 0.99223529, 0.99223529,\n",
       "       0.99223529, 0.99223529, 0.99223529, 0.98447059, 0.37105882,\n",
       "       0.32835294, 0.32835294, 0.22741176, 0.16141176, 0.01      ,\n",
       "       0.01      , 0.01      , 0.01      , 0.01      , 0.01      ,\n",
       "       0.01      , 0.01      , 0.01      , 0.01      , 0.01      ,\n",
       "       0.01      , 0.07988235, 0.86023529, 0.99223529, 0.99223529,\n",
       "       0.99223529, 0.99223529, 0.99223529, 0.77870588, 0.71658824,\n",
       "       0.96894118, 0.94564706, 0.01      , 0.01      , 0.01      ,\n",
       "       0.01      , 0.01      , 0.01      , 0.01      , 0.01      ,\n",
       "       0.01      , 0.01      , 0.01      , 0.01      , 0.01      ,\n",
       "       0.01      , 0.01      , 0.01      , 0.01      , 0.01      ,\n",
       "       0.32058824, 0.61564706, 0.42541176, 0.99223529, 0.99223529,\n",
       "       0.80588235, 0.05270588, 0.01      , 0.17694118, 0.60788235,\n",
       "       0.01      , 0.01      , 0.01      , 0.01      , 0.01      ,\n",
       "       0.01      , 0.01      , 0.01      , 0.01      , 0.01      ,\n",
       "       0.01      , 0.01      , 0.01      , 0.01      , 0.01      ,\n",
       "       0.01      , 0.01      , 0.01      , 0.01      , 0.06435294,\n",
       "       0.01388235, 0.60788235, 0.99223529, 0.35941176, 0.01      ,\n",
       "       0.01      , 0.01      , 0.01      , 0.01      , 0.01      ,\n",
       "       0.01      , 0.01      , 0.01      , 0.01      , 0.01      ,\n",
       "       0.01      , 0.01      , 0.01      , 0.01      , 0.01      ,\n",
       "       0.01      , 0.01      , 0.01      , 0.01      , 0.01      ,\n",
       "       0.01      , 0.01      , 0.01      , 0.01      , 0.54964706,\n",
       "       0.99223529, 0.74764706, 0.01776471, 0.01      , 0.01      ,\n",
       "       0.01      , 0.01      , 0.01      , 0.01      , 0.01      ,\n",
       "       0.01      , 0.01      , 0.01      , 0.01      , 0.01      ,\n",
       "       0.01      , 0.01      , 0.01      , 0.01      , 0.01      ,\n",
       "       0.01      , 0.01      , 0.01      , 0.01      , 0.01      ,\n",
       "       0.01      , 0.01      , 0.05270588, 0.74764706, 0.99223529,\n",
       "       0.28176471, 0.01      , 0.01      , 0.01      , 0.01      ,\n",
       "       0.01      , 0.01      , 0.01      , 0.01      , 0.01      ,\n",
       "       0.01      , 0.01      , 0.01      , 0.01      , 0.01      ,\n",
       "       0.01      , 0.01      , 0.01      , 0.01      , 0.01      ,\n",
       "       0.01      , 0.01      , 0.01      , 0.01      , 0.01      ,\n",
       "       0.01      , 0.14588235, 0.94564706, 0.88352941, 0.63117647,\n",
       "       0.42929412, 0.01388235, 0.01      , 0.01      , 0.01      ,\n",
       "       0.01      , 0.01      , 0.01      , 0.01      , 0.01      ,\n",
       "       0.01      , 0.01      , 0.01      , 0.01      , 0.01      ,\n",
       "       0.01      , 0.01      , 0.01      , 0.01      , 0.01      ,\n",
       "       0.01      , 0.01      , 0.01      , 0.01      , 0.01      ,\n",
       "       0.32447059, 0.94176471, 0.99223529, 0.99223529, 0.472     ,\n",
       "       0.10705882, 0.01      , 0.01      , 0.01      , 0.01      ,\n",
       "       0.01      , 0.01      , 0.01      , 0.01      , 0.01      ,\n",
       "       0.01      , 0.01      , 0.01      , 0.01      , 0.01      ,\n",
       "       0.01      , 0.01      , 0.01      , 0.01      , 0.01      ,\n",
       "       0.01      , 0.01      , 0.01      , 0.01      , 0.18470588,\n",
       "       0.73211765, 0.99223529, 0.99223529, 0.59235294, 0.11482353,\n",
       "       0.01      , 0.01      , 0.01      , 0.01      , 0.01      ,\n",
       "       0.01      , 0.01      , 0.01      , 0.01      , 0.01      ,\n",
       "       0.01      , 0.01      , 0.01      , 0.01      , 0.01      ,\n",
       "       0.01      , 0.01      , 0.01      , 0.01      , 0.01      ,\n",
       "       0.01      , 0.01      , 0.01      , 0.07211765, 0.37105882,\n",
       "       0.98835294, 0.99223529, 0.736     , 0.01      , 0.01      ,\n",
       "       0.01      , 0.01      , 0.01      , 0.01      , 0.01      ,\n",
       "       0.01      , 0.01      , 0.01      , 0.01      , 0.01      ,\n",
       "       0.01      , 0.01      , 0.01      , 0.01      , 0.01      ,\n",
       "       0.01      , 0.01      , 0.01      , 0.01      , 0.01      ,\n",
       "       0.01      , 0.01      , 0.01      , 0.97670588, 0.99223529,\n",
       "       0.97670588, 0.25847059, 0.01      , 0.01      , 0.01      ,\n",
       "       0.01      , 0.01      , 0.01      , 0.01      , 0.01      ,\n",
       "       0.01      , 0.01      , 0.01      , 0.01      , 0.01      ,\n",
       "       0.01      , 0.01      , 0.01      , 0.01      , 0.01      ,\n",
       "       0.01      , 0.01      , 0.01      , 0.18858824, 0.51470588,\n",
       "       0.72047059, 0.99223529, 0.99223529, 0.81364706, 0.01776471,\n",
       "       0.01      , 0.01      , 0.01      , 0.01      , 0.01      ,\n",
       "       0.01      , 0.01      , 0.01      , 0.01      , 0.01      ,\n",
       "       0.01      , 0.01      , 0.01      , 0.01      , 0.01      ,\n",
       "       0.01      , 0.01      , 0.01      , 0.01      , 0.16141176,\n",
       "       0.58458824, 0.89905882, 0.99223529, 0.99223529, 0.99223529,\n",
       "       0.98058824, 0.71658824, 0.01      , 0.01      , 0.01      ,\n",
       "       0.01      , 0.01      , 0.01      , 0.01      , 0.01      ,\n",
       "       0.01      , 0.01      , 0.01      , 0.01      , 0.01      ,\n",
       "       0.01      , 0.01      , 0.01      , 0.01      , 0.01      ,\n",
       "       0.10317647, 0.45258824, 0.868     , 0.99223529, 0.99223529,\n",
       "       0.99223529, 0.99223529, 0.79035294, 0.31282353, 0.01      ,\n",
       "       0.01      , 0.01      , 0.01      , 0.01      , 0.01      ,\n",
       "       0.01      , 0.01      , 0.01      , 0.01      , 0.01      ,\n",
       "       0.01      , 0.01      , 0.01      , 0.01      , 0.01      ,\n",
       "       0.01      , 0.09929412, 0.26623529, 0.83694118, 0.99223529,\n",
       "       0.99223529, 0.99223529, 0.99223529, 0.77870588, 0.32447059,\n",
       "       0.01776471, 0.01      , 0.01      , 0.01      , 0.01      ,\n",
       "       0.01      , 0.01      , 0.01      , 0.01      , 0.01      ,\n",
       "       0.01      , 0.01      , 0.01      , 0.01      , 0.01      ,\n",
       "       0.01      , 0.01      , 0.07988235, 0.67388235, 0.86023529,\n",
       "       0.99223529, 0.99223529, 0.99223529, 0.99223529, 0.76705882,\n",
       "       0.32058824, 0.04494118, 0.01      , 0.01      , 0.01      ,\n",
       "       0.01      , 0.01      , 0.01      , 0.01      , 0.01      ,\n",
       "       0.01      , 0.01      , 0.01      , 0.01      , 0.01      ,\n",
       "       0.01      , 0.01      , 0.01      , 0.22352941, 0.67776471,\n",
       "       0.88741176, 0.99223529, 0.99223529, 0.99223529, 0.99223529,\n",
       "       0.95729412, 0.52635294, 0.05270588, 0.01      , 0.01      ,\n",
       "       0.01      , 0.01      , 0.01      , 0.01      , 0.01      ,\n",
       "       0.01      , 0.01      , 0.01      , 0.01      , 0.01      ,\n",
       "       0.01      , 0.01      , 0.01      , 0.01      , 0.01      ,\n",
       "       0.01      , 0.538     , 0.99223529, 0.99223529, 0.99223529,\n",
       "       0.83305882, 0.53411765, 0.52247059, 0.07211765, 0.01      ,\n",
       "       0.01      , 0.01      , 0.01      , 0.01      , 0.01      ,\n",
       "       0.01      , 0.01      , 0.01      , 0.01      , 0.01      ,\n",
       "       0.01      , 0.01      , 0.01      , 0.01      , 0.01      ,\n",
       "       0.01      , 0.01      , 0.01      , 0.01      , 0.01      ,\n",
       "       0.01      , 0.01      , 0.01      , 0.01      , 0.01      ,\n",
       "       0.01      , 0.01      , 0.01      , 0.01      , 0.01      ,\n",
       "       0.01      , 0.01      , 0.01      , 0.01      , 0.01      ,\n",
       "       0.01      , 0.01      , 0.01      , 0.01      , 0.01      ,\n",
       "       0.01      , 0.01      , 0.01      , 0.01      , 0.01      ,\n",
       "       0.01      , 0.01      , 0.01      , 0.01      , 0.01      ,\n",
       "       0.01      , 0.01      , 0.01      , 0.01      , 0.01      ,\n",
       "       0.01      , 0.01      , 0.01      , 0.01      , 0.01      ,\n",
       "       0.01      , 0.01      , 0.01      , 0.01      , 0.01      ,\n",
       "       0.01      , 0.01      , 0.01      , 0.01      , 0.01      ,\n",
       "       0.01      , 0.01      , 0.01      , 0.01      , 0.01      ,\n",
       "       0.01      , 0.01      , 0.01      , 0.01      , 0.01      ,\n",
       "       0.01      , 0.01      , 0.01      , 0.01      , 0.01      ,\n",
       "       0.01      , 0.01      , 0.01      , 0.01      , 0.01      ,\n",
       "       0.01      , 0.01      , 0.01      , 0.01      , 0.01      ,\n",
       "       0.01      , 0.01      , 0.01      , 0.01      ])"
      ]
     },
     "execution_count": 38,
     "metadata": {},
     "output_type": "execute_result"
    }
   ],
   "source": [
    "# Update input value for training\n",
    "scaled_input = (np.asfarray(all_values[1:]) / 255.0 * 0.99) + 0.01\n",
    "scaled_input"
   ]
  },
  {
   "cell_type": "code",
   "execution_count": 39,
   "metadata": {},
   "outputs": [],
   "source": [
    "# Update output value for training\n",
    "onodes = 10\n",
    "targets = np.zeros(onodes) + 0.01\n",
    "targets[0] = 0.99"
   ]
  },
  {
   "cell_type": "code",
   "execution_count": 40,
   "metadata": {},
   "outputs": [
    {
     "data": {
      "text/plain": [
       "array([0.99, 0.01, 0.01, 0.01, 0.01, 0.01, 0.01, 0.01, 0.01, 0.01])"
      ]
     },
     "execution_count": 40,
     "metadata": {},
     "output_type": "execute_result"
    }
   ],
   "source": [
    "targets"
   ]
  },
  {
   "cell_type": "markdown",
   "metadata": {},
   "source": [
    "## Loading real time images of handwritten & test them"
   ]
  },
  {
   "cell_type": "markdown",
   "metadata": {},
   "source": [
    "### Read and decode list of \".png\" data to list of arrays"
   ]
  },
  {
   "cell_type": "code",
   "execution_count": 16,
   "metadata": {},
   "outputs": [],
   "source": [
    "# Our own image test data set\n",
    "our_own_dataset = []"
   ]
  },
  {
   "cell_type": "code",
   "execution_count": 17,
   "metadata": {},
   "outputs": [],
   "source": [
    "# Reading multiple \".png\" files\n",
    "for image_file_name in glob.glob(\"data_my_model/2828_my_own_?.png\"):\n",
    "    # Load from png's image into an array\n",
    "    img_array = imageio.imread(image_file_name, as_gray=True)\n",
    "    # Use file's name to set the correct label\n",
    "    label = int(image_file_name[-5:-4])\n",
    "    # Reshape image to list of 784 units, invert values\n",
    "    img_data = 255.0 - img_array.reshape(784)\n",
    "    # Scale them to 0.01 to 1.0\n",
    "    img_data = (img_data / 255.0 * 0.99) + 0.01\n",
    "    # Combined label and image data\n",
    "    record = np.append(label, img_data)\n",
    "    # Add record to list of data's array\n",
    "    our_own_dataset.append(record)"
   ]
  },
  {
   "cell_type": "markdown",
   "metadata": {},
   "source": [
    "### Go through each array and test them by network model"
   ]
  },
  {
   "cell_type": "code",
   "execution_count": 16,
   "metadata": {},
   "outputs": [
    {
     "name": "stdout",
     "output_type": "stream",
     "text": [
      "[[1.33924435e-03]\n",
      " [2.58644712e-02]\n",
      " [4.75843683e-01]\n",
      " [1.40963337e-02]\n",
      " [6.90194486e-03]\n",
      " [9.14306325e-04]\n",
      " [2.88295043e-05]\n",
      " [2.93831035e-01]\n",
      " [2.51421884e-04]\n",
      " [9.23955832e-03]]\n",
      "The predicted value is  2\n",
      "The true value is  2.0\n"
     ]
    },
    {
     "data": {
      "text/plain": [
       "<matplotlib.image.AxesImage at 0x2d7633f3400>"
      ]
     },
     "execution_count": 16,
     "metadata": {},
     "output_type": "execute_result"
    },
    {
     "data": {
      "image/png": "[encoded data removed]",
      "text/plain": [
       "<Figure size 432x288 with 1 Axes>"
      ]
     },
     "metadata": {
      "needs_background": "light"
     },
     "output_type": "display_data"
    }
   ],
   "source": [
    "# Test array pic using model\n",
    "output = mnist_model.query(our_own_dataset[0][1:])\n",
    "print(output)\n",
    "# Print the predict value\n",
    "print(\"The predicted value is \", str(np.argmax(output)))\n",
    "# Print the correct value\n",
    "print(\"The true value is \", our_own_dataset[0][0])\n",
    "# Reshape them\n",
    "image_array = our_own_dataset[0][1:].reshape((28,28))\n",
    "# Create an image from array\n",
    "plt.imshow(image_array, cmap=\"Greys\", interpolation=None)"
   ]
  },
  {
   "cell_type": "code",
   "execution_count": 17,
   "metadata": {},
   "outputs": [
    {
     "name": "stdout",
     "output_type": "stream",
     "text": [
      "[[9.05006133e-04]\n",
      " [1.90840019e-02]\n",
      " [7.13120017e-04]\n",
      " [9.80167809e-01]\n",
      " [1.10837882e-03]\n",
      " [2.56448886e-02]\n",
      " [2.41176602e-04]\n",
      " [8.41526516e-04]\n",
      " [3.04384957e-04]\n",
      " [3.79648298e-03]]\n",
      "The predicted value is  3\n",
      "The true value is  3.0\n"
     ]
    },
    {
     "data": {
      "text/plain": [
       "<matplotlib.image.AxesImage at 0x2d7637c9700>"
      ]
     },
     "execution_count": 17,
     "metadata": {},
     "output_type": "execute_result"
    },
    {
     "data": {
      "image/png": "[encoded data removed]",
      "text/plain": [
       "<Figure size 432x288 with 1 Axes>"
      ]
     },
     "metadata": {
      "needs_background": "light"
     },
     "output_type": "display_data"
    }
   ],
   "source": [
    "# Test array pic using model\n",
    "output = mnist_model.query(our_own_dataset[1][1:])\n",
    "print(output)\n",
    "# Print the predict value\n",
    "print(\"The predicted value is \", str(np.argmax(output)))\n",
    "# Print the correct value\n",
    "print(\"The true value is \", our_own_dataset[1][0])\n",
    "# Reshape them\n",
    "image_array = our_own_dataset[1][1:].reshape((28,28))\n",
    "# Create an image from array\n",
    "plt.imshow(image_array, cmap=\"Greys\", interpolation=None)"
   ]
  },
  {
   "cell_type": "code",
   "execution_count": 18,
   "metadata": {},
   "outputs": [
    {
     "name": "stdout",
     "output_type": "stream",
     "text": [
      "[[6.69345125e-04]\n",
      " [1.32791741e-03]\n",
      " [3.07986200e-03]\n",
      " [4.53829775e-04]\n",
      " [9.79793571e-01]\n",
      " [9.31323496e-03]\n",
      " [4.72865176e-03]\n",
      " [7.37356486e-03]\n",
      " [1.01658153e-04]\n",
      " [7.00848393e-04]]\n",
      "The predicted value is  4\n",
      "The true value is  4.0\n"
     ]
    },
    {
     "data": {
      "text/plain": [
       "<matplotlib.image.AxesImage at 0x2d763800d60>"
      ]
     },
     "execution_count": 18,
     "metadata": {},
     "output_type": "execute_result"
    },
    {
     "data": {
      "image/png": "[encoded data removed]",
      "text/plain": [
       "<Figure size 432x288 with 1 Axes>"
      ]
     },
     "metadata": {
      "needs_background": "light"
     },
     "output_type": "display_data"
    }
   ],
   "source": [
    "# Test array pic using model\n",
    "output = mnist_model.query(our_own_dataset[2][1:])\n",
    "print(output)\n",
    "# Print the predict value\n",
    "print(\"The predicted value is \", str(np.argmax(output)))\n",
    "# Print the correct value\n",
    "print(\"The true value is \", our_own_dataset[2][0])\n",
    "# Reshape them\n",
    "image_array = our_own_dataset[2][1:].reshape((28,28))\n",
    "# Create an image from array\n",
    "plt.imshow(image_array, cmap=\"Greys\", interpolation=None)"
   ]
  },
  {
   "cell_type": "code",
   "execution_count": 19,
   "metadata": {},
   "outputs": [
    {
     "name": "stdout",
     "output_type": "stream",
     "text": [
      "[[5.70815040e-03]\n",
      " [4.57052228e-04]\n",
      " [7.79083561e-03]\n",
      " [5.56555795e-03]\n",
      " [5.07433772e-04]\n",
      " [9.55383807e-01]\n",
      " [3.70416807e-03]\n",
      " [5.25741390e-02]\n",
      " [6.58715001e-05]\n",
      " [3.42125254e-03]]\n",
      "The predicted value is  5\n",
      "The true value is  5.0\n"
     ]
    },
    {
     "data": {
      "text/plain": [
       "<matplotlib.image.AxesImage at 0x2d763dfa070>"
      ]
     },
     "execution_count": 19,
     "metadata": {},
     "output_type": "execute_result"
    },
    {
     "data": {
      "image/png": "[encoded data removed]",
      "text/plain": [
       "<Figure size 432x288 with 1 Axes>"
      ]
     },
     "metadata": {
      "needs_background": "light"
     },
     "output_type": "display_data"
    }
   ],
   "source": [
    "# Test array pic using model\n",
    "output = mnist_model.query(our_own_dataset[3][1:])\n",
    "print(output)\n",
    "# Print the predict value\n",
    "print(\"The predicted value is \", str(np.argmax(output)))\n",
    "# Print the correct value\n",
    "print(\"The true value is \", our_own_dataset[3][0])\n",
    "# Reshape them\n",
    "image_array = our_own_dataset[3][1:].reshape((28,28))\n",
    "# Create an image from array\n",
    "plt.imshow(image_array, cmap=\"Greys\", interpolation=None)"
   ]
  },
  {
   "cell_type": "code",
   "execution_count": 20,
   "metadata": {},
   "outputs": [
    {
     "name": "stdout",
     "output_type": "stream",
     "text": [
      "[[0.00393324]\n",
      " [0.01519588]\n",
      " [0.00027631]\n",
      " [0.01349423]\n",
      " [0.03825791]\n",
      " [0.01782924]\n",
      " [0.16845359]\n",
      " [0.00937808]\n",
      " [0.00169533]\n",
      " [0.0022846 ]]\n",
      "The predicted value is  6\n",
      "The true value is  6.0\n"
     ]
    },
    {
     "data": {
      "text/plain": [
       "<matplotlib.image.AxesImage at 0x2d763d61ee0>"
      ]
     },
     "execution_count": 20,
     "metadata": {},
     "output_type": "execute_result"
    },
    {
     "data": {
      "image/png": "[encoded data removed]",
      "text/plain": [
       "<Figure size 432x288 with 1 Axes>"
      ]
     },
     "metadata": {
      "needs_background": "light"
     },
     "output_type": "display_data"
    }
   ],
   "source": [
    "# Test array pic using model\n",
    "output = mnist_model.query(our_own_dataset[4][1:])\n",
    "print(output)\n",
    "# Print the predict value\n",
    "print(\"The predicted value is \", str(np.argmax(output)))\n",
    "# Print the correct value\n",
    "print(\"The true value is \", our_own_dataset[4][0])\n",
    "# Reshape them\n",
    "image_array = our_own_dataset[4][1:].reshape((28,28))\n",
    "# Create an image from array\n",
    "plt.imshow(image_array, cmap=\"Greys\", interpolation=None)"
   ]
  },
  {
   "cell_type": "code",
   "execution_count": null,
   "metadata": {},
   "outputs": [],
   "source": []
  }
 ],
 "metadata": {
  "kernelspec": {
   "display_name": "Python 3",
   "language": "python",
   "name": "python3"
  },
  "language_info": {
   "codemirror_mode": {
    "name": "ipython",
    "version": 3
   },
   "file_extension": ".py",
   "mimetype": "text/x-python",
   "name": "python",
   "nbconvert_exporter": "python",
   "pygments_lexer": "ipython3",
   "version": "3.8.3"
  },
  "toc": {
   "base_numbering": 1,
   "nav_menu": {},
   "number_sections": true,
   "sideBar": true,
   "skip_h1_title": false,
   "title_cell": "Table of Contents",
   "title_sidebar": "Contents",
   "toc_cell": false,
   "toc_position": {},
   "toc_section_display": true,
   "toc_window_display": false
  }
 },
 "nbformat": 4,
 "nbformat_minor": 4
}
